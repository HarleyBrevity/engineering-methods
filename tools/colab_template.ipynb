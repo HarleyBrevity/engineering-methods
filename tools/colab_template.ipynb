{
  "nbformat": 4,
  "nbformat_minor": 0,
  "metadata": {
    "colab": {
      "provenance": [],
      "toc_visible": true
    },
    "kernelspec": {
      "name": "python3",
      "display_name": "Python 3"
    },
    "language_info": {
      "name": "python"
    }
  },
  "cells": [
    {
      "cell_type": "markdown",
      "source": [
        "# Engineering Method Name\n",
        "\n",
        "Designed -\n",
        "\n",
        "Reviewed -\n",
        "\n",
        "Approved - "
      ],
      "metadata": {
        "id": "UWu-6_HOKz5O"
      }
    },
    {
      "cell_type": "code",
      "execution_count": 1,
      "metadata": {
        "colab": {
          "base_uri": "https://localhost:8080/"
        },
        "id": "VUIg3zZ7xfNh",
        "outputId": "e4513f79-b2b1-4c87-f685-ec7303fd4c3c"
      },
      "outputs": [
        {
          "output_type": "stream",
          "name": "stdout",
          "text": [
            "Looking in indexes: https://pypi.org/simple, https://us-python.pkg.dev/colab-wheels/public/simple/\n",
            "Collecting git+https://github.com/Constratum/engineering_standards.git\n",
            "  Cloning https://github.com/Constratum/engineering_standards.git to /tmp/pip-req-build-i9mgs4aq\n",
            "  Running command git clone --filter=blob:none --quiet https://github.com/Constratum/engineering_standards.git /tmp/pip-req-build-i9mgs4aq\n",
            "  Resolved https://github.com/Constratum/engineering_standards.git to commit 06c6eb0d9ffe49b012503100b3c0c67663b8f718\n",
            "  Preparing metadata (setup.py) ... \u001b[?25l\u001b[?25hdone\n",
            "Requirement already satisfied: numpy in /usr/local/lib/python3.10/dist-packages (from engineering-standards==0.21) (1.22.4)\n",
            "Requirement already satisfied: pandas in /usr/local/lib/python3.10/dist-packages (from engineering-standards==0.21) (1.5.3)\n",
            "Requirement already satisfied: python-dateutil>=2.8.1 in /usr/local/lib/python3.10/dist-packages (from pandas->engineering-standards==0.21) (2.8.2)\n",
            "Requirement already satisfied: pytz>=2020.1 in /usr/local/lib/python3.10/dist-packages (from pandas->engineering-standards==0.21) (2022.7.1)\n",
            "Requirement already satisfied: six>=1.5 in /usr/local/lib/python3.10/dist-packages (from python-dateutil>=2.8.1->pandas->engineering-standards==0.21) (1.16.0)\n"
          ]
        }
      ],
      "source": [
        "#install libraries\n",
        "\n",
        "!pip install git+https://github.com/Constratum/engineering_standards.git"
      ]
    },
    {
      "cell_type": "code",
      "source": [
        "#import and name relevant standards\n",
        "\n",
        "from nz_standards import nzs_1170_5 as NZS_1170_5"
      ],
      "metadata": {
        "colab": {
          "base_uri": "https://localhost:8080/"
        },
        "id": "qUuKsLhKyVcx",
        "outputId": "e1e9f99b-04cf-414d-efcb-c938d28209d9"
      },
      "execution_count": 2,
      "outputs": [
        {
          "output_type": "stream",
          "name": "stdout",
          "text": [
            "Spectral shape factor = 1.33\n",
            "Hazard factor = 0.13\n",
            "Major fault distance = 20\n",
            "Return period factor = 1.0\n",
            "Near fault factor = 1.0\n",
            "Elastic site spectra = 0.17290000000000003\n",
            "Sp_stability = 1.0, Sp_ULS = 0.925, Sp_SLS = 0.7\n",
            "0.13994093750000003\n",
            "Part risk factor = 1.0\n",
            "Part limit state = Earthquake ULS\n",
            "Floor height coefficient = 3.0\n",
            "Part spectral shape factor = 2.0\n",
            "Part design response coefficient = 1.0374\n",
            "Part response factor = 1.0\n",
            "Part horizontal design action = 10.374 N\n"
          ]
        }
      ]
    }
  ]
}